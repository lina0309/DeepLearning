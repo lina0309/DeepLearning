{
 "cells": [
  {
   "cell_type": "code",
   "execution_count": 6,
   "metadata": {},
   "outputs": [
    {
     "name": "stdout",
     "output_type": "stream",
     "text": [
      "[[  56.     0.     4.4   68. ]\n",
      " [   1.2  104.    52.     8. ]\n",
      " [   1.8  135.    99.     0.9]]\n"
     ]
    }
   ],
   "source": [
    "#coding=utf-8\n",
    "import numpy as np\n",
    "A = np.array([[56.0,0.0,4.4,68.0],\n",
    "              [1.2,104.0,52.0,8.0],\n",
    "              [1.8,135.0,99.0,0.9]])\n",
    "print(A)"
   ]
  },
  {
   "cell_type": "code",
   "execution_count": 10,
   "metadata": {},
   "outputs": [
    {
     "name": "stdout",
     "output_type": "stream",
     "text": [
      "[  59.   239.   155.4   76.9]\n",
      "[[  59.   239.   155.4   76.9]]\n"
     ]
    }
   ],
   "source": [
    "cal = A.sum(axis=0)\n",
    "#axis=0 竖直相加\n",
    "#axis=1 水平相加\n",
    "print(cal)\n",
    "print(cal.reshape(1,4))"
   ]
  },
  {
   "cell_type": "code",
   "execution_count": 11,
   "metadata": {
    "collapsed": true
   },
   "outputs": [],
   "source": [
    "percentage = 100*A/cal.reshape(1,4)\n",
    "#A(3,4)   cal(1,4)  reshape是o(1)效率"
   ]
  },
  {
   "cell_type": "code",
   "execution_count": 12,
   "metadata": {},
   "outputs": [
    {
     "name": "stdout",
     "output_type": "stream",
     "text": [
      "[[ 94.91525424   0.           2.83140283  88.42652796]\n",
      " [  2.03389831  43.51464435  33.46203346  10.40312094]\n",
      " [  3.05084746  56.48535565  63.70656371   1.17035111]]\n"
     ]
    }
   ],
   "source": [
    "print percentage"
   ]
  },
  {
   "cell_type": "code",
   "execution_count": null,
   "metadata": {
    "collapsed": true
   },
   "outputs": [],
   "source": []
  }
 ],
 "metadata": {
  "kernelspec": {
   "display_name": "Python 2",
   "language": "python",
   "name": "python2"
  },
  "language_info": {
   "codemirror_mode": {
    "name": "ipython",
    "version": 2
   },
   "file_extension": ".py",
   "mimetype": "text/x-python",
   "name": "python",
   "nbconvert_exporter": "python",
   "pygments_lexer": "ipython2",
   "version": "2.7.10"
  }
 },
 "nbformat": 4,
 "nbformat_minor": 2
}
