{
 "cells": [
  {
   "cell_type": "code",
   "execution_count": 130,
   "metadata": {},
   "outputs": [],
   "source": [
    "import numpy as np\n",
    "class Perceptron(object):\n",
    "    '''\n",
    "    eta:学习率float\n",
    "    n_iter:权重向量的训练次数int\n",
    "    w_:一维权重向量\n",
    "    errors:神经判断出错次数\n",
    "    '''\n",
    "    def net_input(self,X):\n",
    "        return np.dot(X,self.w_[1:])+self.w_[0]#点积\n",
    "        pass\n",
    "    def __init__(self, eta = 0.01, n_iter = 10):\n",
    "        self.eta = eta;\n",
    "        self.n_iter = n_iter\n",
    "        pass\n",
    "    def predict(self,X):\n",
    "        return np.where(self.net_input(X) >= 0.0 ,1,-1)\n",
    "    def fit(self,X,y):\n",
    "        '''\n",
    "        输入训练数据，训练神经元，x输入样本向量，y对应样本分类\n",
    "        X:shape[n_samples,n_features]\n",
    "        二维数组\n",
    "        X:[[1,2,3],[4,5,6]]\n",
    "        n_samples:2 表示X中含有训练数据条目\n",
    "        n_features:3 含有3个数据的一维向量，用于表示一条训练条目\n",
    "        y;[1,-1] 用于每一个条目对应的正确分类\n",
    "        \n",
    "        初始化权重向量为0\n",
    "        +1因为前面的w0，阈值 w0+1\n",
    "        '''\n",
    "        self.w_=np.zeros(1 + X.shape[1]);\n",
    "        self.errors=[]\n",
    "        for _ in range(self.n_iter):\n",
    "            errors = 0\n",
    "            '''\n",
    "            X:[[1,2,3],[4,5,6]]\n",
    "            Y:[1,-1]\n",
    "            zip(X,y)=[[1,2,3 1],[4,5,6 -1]]\n",
    "            '''\n",
    "            for xi,target in zip(X,y):\n",
    "                update = self.eta * (target - self.predict(xi))\n",
    "                self.w_[1:] += update * xi\n",
    "                self.w_[0] += update;\n",
    "                errors += int(update != 0.0)\n",
    "                self.errors.append(errors)\n",
    "                pass\n",
    "            pass\n",
    "\n",
    "        pass"
   ]
  },
  {
   "cell_type": "code",
   "execution_count": 131,
   "metadata": {},
   "outputs": [],
   "source": [
    "import pandas as pd\n",
    "file = '/Users/lina/Documents/test.csv'\n",
    "df= pd.read_csv(file,header=None)#第一行不是数据说明，而是真实数据\n",
    "#df1.to_csv('test.csv',index=False,header=None)\n",
    "#df.head(10)#显示前十行"
   ]
  },
  {
   "cell_type": "code",
   "execution_count": 132,
   "metadata": {},
   "outputs": [
    {
     "data": {
      "image/png": "[encoded data removed]",
      "text/plain": [
       "<matplotlib.figure.Figure at 0x10833c450>"
      ]
     },
     "metadata": {},
     "output_type": "display_data"
    }
   ],
   "source": [
    "import matplotlib.pyplot as plt#数据可视化的工具\n",
    "import numpy as np#提供一些列工具对数据进行加工和计算\n",
    "y = df.loc[0:100, 4].values#抽取0-100行，第四列\n",
    "y = np.where(y == 'Iris-setosa', -1, 1)\n",
    "#print (y)\n",
    "X = df.loc[0:100, [0, 2]].values#0-100行，第0列和第2列数据抽取\n",
    "#print (X)\n",
    "#下方画散点图,前50行抽出来，第0列当X坐标，第1列当Y坐标，用红色字体，用o表示，意思是label；后续是50-100行\n",
    "plt.scatter(X[:50, 0], X[:50, 1], color='red', marker='o', label='setosa')\n",
    "plt.scatter(X[50:100, 0], X[50:100, 1], color='blue', marker='x', label='versicolor')\n",
    "plt.xlabel('Petal length')\n",
    "plt.ylabel('Stem length')\n",
    "plt.legend(loc='upper left')\n",
    "##legend是显示图例，loc参数是位置,默认是显示在左上角的\n",
    "plt.show()"
   ]
  },
  {
   "cell_type": "code",
   "execution_count": 133,
   "metadata": {},
   "outputs": [
    {
     "data": {
      "image/png": "[encoded data removed]",
      "text/plain": [
       "<matplotlib.figure.Figure at 0x1075ce690>"
      ]
     },
     "metadata": {},
     "output_type": "display_data"
    }
   ],
   "source": [
    "ppn = Perceptron(eta = 0.1, n_iter = 10)\n",
    "ppn.fit(X, y)\n",
    "plt.xlabel('Epoch')\n",
    "plt.ylabel('Error classification number')\n",
    "plt.show()"
   ]
  },
  {
   "cell_type": "code",
   "execution_count": 134,
   "metadata": {
    "collapsed": true
   },
   "outputs": [],
   "source": [
    "from matplotlib.colors import ListedColormap\n",
    "def plot_decision_regions(X, y, classifier, resolution=0.02):\n",
    "    markers = ('s','x','o','v')\n",
    "    colors = ('red', 'blue', 'lightgreen', 'gray', 'cyan')\n",
    "    cmap = ListedColormap(colors[:len(np.unique(y))])#y里面有两种1，-1，所以选择以上两种颜色\n",
    "    #获得花茎长度最大值最小值,-1为了扩大坐标轴范围，点更具中，画出图更好看\n",
    "    x1_min, x1_max = X[:, 0].min() - 1, X[:, 0].max()\n",
    "    x2_min, x2_max = X[:, 1].min() - 1, X[:, 1].max()\n",
    "    \n",
    "    #print(x1_min, x1_max)\n",
    "    #print(x2_min, x2_max)\n",
    "    #数据区域的填充，resolution是数据间隔\n",
    "    xx1, xx2 = np.meshgrid(np.arange(x1_min, x1_max, resolution),\n",
    "                          np.arange(x2_min, x2_max, resolution))\n",
    "    #print(np.arange(x1_min, x1_max, resolution).shape)\n",
    "    #print(np.arange(x1_min, x1_max, resolution))\n",
    "    #print(xx1.shape)\n",
    "    #print(xx1)\n",
    "    #print(np.arange(x2_min, x2_max, resolution).shape)\n",
    "    #print(np.arange(x2_min, x2_max, resolution))\n",
    "    #print(xx2.shape)\n",
    "    #print(xx2)\n",
    "    \n",
    "    #Z来填充模型结果,ravel把原来的二维数组还原为单个维度的向量,把模型放入进行预测\n",
    "    Z = classifier.predict(np.array([xx1.ravel(), xx2.ravel()]).T)\n",
    "    #输入3.3 0--->-1;6.98 5.08--->1         T是转制\n",
    "    print(xx1.ravel())\n",
    "    print(xx2.ravel())\n",
    "    print(Z)\n",
    "    \n",
    "    Z = Z.reshape(xx1.shape)#单维向量，变成xx1维度\n",
    "    plt.contourf(xx1, xx2, Z, alpha=0.4, cmap=cmap)#根据数据绘制分界线\n",
    "    plt.xlim(xx1.min(),xx1.max())#坐标上下线分别是最大最小值\n",
    "    plt.ylim(xx2.min(),xx2.max())\n",
    "    #对两组数据打标签说明\n",
    "    for idx, cl in enumerate(np.unique(y)):\n",
    "        plt.scatter(x=X[y==cl,0], y=X[y==cl,1], alpha=1, c=cmap(idx),\n",
    "                   marker=markers[idx], label=cl)\n",
    "    "
   ]
  },
  {
   "cell_type": "code",
   "execution_count": 135,
   "metadata": {},
   "outputs": [
    {
     "name": "stdout",
     "output_type": "stream",
     "text": [
      "[ 3.3   3.32  3.34 ...,  6.94  6.96  6.98]\n",
      "[ 0.    0.    0.   ...,  5.98  5.98  5.98]\n",
      "[-1 -1 -1 ...,  1  1  1]\n"
     ]
    },
    {
     "data": {
      "image/png": "[encoded data removed]",
      "text/plain": [
       "<matplotlib.figure.Figure at 0x1084e3210>"
      ]
     },
     "metadata": {},
     "output_type": "display_data"
    }
   ],
   "source": [
    "plot_decision_regions(X, y, ppn, resolution=0.02)\n",
    "plt.xlabel('Petal length')\n",
    "plt.ylabel('Stem length')\n",
    "plt.show()\n",
    "#线性可分的预测"
   ]
  },
  {
   "cell_type": "code",
   "execution_count": null,
   "metadata": {
    "collapsed": true
   },
   "outputs": [],
   "source": []
  },
  {
   "cell_type": "code",
   "execution_count": null,
   "metadata": {
    "collapsed": true
   },
   "outputs": [],
   "source": []
  }
 ],
 "metadata": {
  "kernelspec": {
   "display_name": "Python 2",
   "language": "python",
   "name": "python2"
  },
  "language_info": {
   "codemirror_mode": {
    "name": "ipython",
    "version": 2
   },
   "file_extension": ".py",
   "mimetype": "text/x-python",
   "name": "python",
   "nbconvert_exporter": "python",
   "pygments_lexer": "ipython2",
   "version": "2.7.10"
  }
 },
 "nbformat": 4,
 "nbformat_minor": 2
}
